{
 "cells": [
  {
   "cell_type": "markdown",
   "metadata": {},
   "source": [
    "### Setup\n",
    "\n",
    "Follow the setup instructions to create the pipenv environment, then connect this notebook to the\n",
    "Python kernel in the \"`music-interpolation-...`\" environment."
   ]
  },
  {
   "cell_type": "code",
   "execution_count": null,
   "metadata": {},
   "outputs": [],
   "source": [
    "import librosa\n",
    "from IPython.display import Audio\n",
    "from music_interpolation.encodec_interpolation import EncodecInterpolation\n",
    "\n",
    "AUDIO_A_PATH = \"../tests/data/house-equanimity-10s.mp3\"\n",
    "AUDIO_B_PATH = \"../tests/data/they-know-me-10s.mp3\""
   ]
  },
  {
   "cell_type": "code",
   "execution_count": null,
   "metadata": {},
   "outputs": [],
   "source": [
    "interp = EncodecInterpolation(device=\"cpu\")"
   ]
  },
  {
   "cell_type": "code",
   "execution_count": null,
   "metadata": {},
   "outputs": [],
   "source": [
    "audio_a = librosa.load(AUDIO_A_PATH, sr=interp.sampling_rate, mono=False)[0]\n",
    "audio_b = librosa.load(AUDIO_B_PATH, sr=interp.sampling_rate, mono=False)[0]\n",
    "\n",
    "duration = min(audio_a.shape[1], audio_b.shape[1])\n",
    "audio_a = audio_a[:, :duration]\n",
    "audio_b = audio_b[:, :duration]\n",
    "\n",
    "Audio(audio_a, rate=interp.sampling_rate)"
   ]
  },
  {
   "cell_type": "code",
   "execution_count": null,
   "metadata": {},
   "outputs": [],
   "source": [
    "Audio(audio_b, rate=interp.sampling_rate)"
   ]
  },
  {
   "cell_type": "code",
   "execution_count": null,
   "metadata": {},
   "outputs": [],
   "source": [
    "audio_c = interp.interpolate(audio_a, audio_b)\n",
    "Audio(audio_c, rate=interp.sampling_rate)"
   ]
  }
 ],
 "metadata": {
  "kernelspec": {
   "display_name": "music-interpolation-CiJIWn5K",
   "language": "python",
   "name": "python3"
  },
  "language_info": {
   "codemirror_mode": {
    "name": "ipython",
    "version": 3
   },
   "file_extension": ".py",
   "mimetype": "text/x-python",
   "name": "python",
   "nbconvert_exporter": "python",
   "pygments_lexer": "ipython3",
   "version": "3.10.12"
  },
  "orig_nbformat": 4
 },
 "nbformat": 4,
 "nbformat_minor": 2
}
